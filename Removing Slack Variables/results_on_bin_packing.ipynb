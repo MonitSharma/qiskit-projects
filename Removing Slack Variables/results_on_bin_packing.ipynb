{
 "cells": [
  {
   "cell_type": "markdown",
   "metadata": {},
   "source": [
    "# Qiskit Hackathon Global\n",
    "\n",
    "# NEW METHOD FOR INEQUALITY CONSTRAINED OPTIMIZATION PROBLEM\n",
    "\n",
    "## The problem\n",
    "\n",
    "Different optimization problems suited for being solved by quantum computers (QC) have inequality constraints that make a first approach of solving them really difficult for our current noise intermediate-scale quantum (NISQ) technology. This is because, the inequality constraints have to be converted into equality constraints and then, converted to binary representation and being solved with quadratic penalizations. The extra qubits added by these transformations and the resulting equation give us the motivation for looking at alternatives to get rid of the inequality constraints keeping the number of qubits constant. We will use the bin packing problem to test our alternative to the commonly used approach for inequality constrained problems. For the solution, we use the varational quantum algorithm (VQA) quantum approximation optimization algorithm (QAOA). \n",
    "\n",
    "\n",
    "\n",
    "## Bin Packing Problem\n",
    "\n",
    "The [bin packing problem](https://en.wikipedia.org/wiki/Bin_packing_problem) is an optimization problem where given a number of items with an assigned weight, we look at the best way to group the items minimizing the number of bins or containers needed to store them. The restriction, in this case, is the capacity of the bins which cannot surpass a certain weight. This problem has many real applications in areas as loading trucks with a weight restriction, filling up containers, and FPGA semiconductors chip design. \n",
    "\n",
    "In terms of complexity, the bin packing problem is an NP-hard problem. However, there are efficient algorithms that allow the arrangement of a large number of items. One of them is the first fit, which provides a fast but not optimal solution to the problem. \n",
    "\n",
    "For our problem, we will explore the solution of the bin packing problem, using a quantum computing representation in terms of quadratic unconstraint binary optimization (QUBO) and using the quantum approximation optimization (QAOA) algorithm. \n",
    "\n",
    "### Problem statement\n",
    "\n",
    "minimize $$K = \\sum_{j=1}^m y_j$$\n",
    "\n",
    "subject to:\n",
    "\n",
    "$$\\sum_{i=1}^n s(i) x_{ij} \\le B y_j \\qquad  \\forall j=1,...,m$$\n",
    "$$\\sum_{j=1}^m x_{ij} = 1  \\qquad \\forall i = 1, ..., n$$\n",
    "$$x_{ij}\\in  \\{0,1\\} \\qquad \\forall i=1,..,n \\qquad j=1,..,m$$\n",
    "$$y_{j}\\in  \\{0,1\\} \\qquad \\forall j=1,..,m $$\n",
    "\n",
    "- n is the number of items\n",
    "- m is the number of bins\n",
    "- $s(i)$ is the i-th item weight\n",
    "- B is the maximum weight of the bin\n",
    "- $x_{ij}$ is the variable that represent if the item i is in the bin j.\n",
    "- $y_j$ is the variable that represent if bin j is used\n",
    "\n",
    "## The solution\n",
    "\n",
    "We look for a heuristic approach based on a new penalization that does not increase the number of qubits for the solution on a QC and still accomplishes the penalization when the sum of the weights on a bin surpasses the maximum weight allowed. In this notebook, we will go through:\n",
    "\n",
    "1) Codification of the problem\n",
    "\n",
    "2) The classical approach\n",
    "\n",
    "3) Our new approach\n",
    "\n",
    "4) Comparison between both approaches\n",
    "\n",
    "5) Conclusions"
   ]
  },
  {
   "cell_type": "code",
   "execution_count": 102,
   "metadata": {},
   "outputs": [],
   "source": [
    "import numpy as np\n",
    "import matplotlib.pyplot as plt\n",
    "from docplex.mp.model import Model\n",
    "\n",
    "from qiskit import BasicAer\n",
    "from qiskit.algorithms import QAOA, NumPyMinimumEigensolver\n",
    "from qiskit_optimization.algorithms import CplexOptimizer, MinimumEigenOptimizer\n",
    "from qiskit_optimization.algorithms.admm_optimizer import ADMMParameters, ADMMOptimizer\n",
    "from qiskit_optimization import QuadraticProgram\n",
    "from qiskit_optimization.converters import QuadraticProgramToQubo\n",
    "from qiskit.algorithms.optimizers import COBYLA\n",
    "\n",
    "%matplotlib inline "
   ]
  },
  {
   "cell_type": "markdown",
   "metadata": {},
   "source": [
    "## 1. Codification of the problem\n",
    "\n",
    "To construct the model, we use the library docplex. Once we have the problem as a cplex model, we use the function QuadraticProgram from qiskit_optimization to translate the problem and finally the function QuadraticProgramToQubo to convert the problem into the quadratic unconstrained binary optimization (QUBO) representation.\n",
    "\n",
    "For this initial set, we chose a small problem. Here, we select 3 items with a maximal weight of 15. The weight of the items is chosen randomly from values between 1 and the maximal weight. "
   ]
  },
  {
   "cell_type": "code",
   "execution_count": 2,
   "metadata": {},
   "outputs": [],
   "source": [
    "np.random.seed(1)\n",
    "num_items = 3 # number of items\n",
    "num_bins = num_items # maximum number of bins\n",
    "max_weight = 15 # max weight of a bin\n",
    "\n",
    "weights = np.random.randint(1, max_weight, num_items) # Randomly picking the item weight"
   ]
  },
  {
   "cell_type": "code",
   "execution_count": 3,
   "metadata": {},
   "outputs": [
    {
     "name": "stderr",
     "output_type": "stream",
     "text": [
      "<ipython-input-3-b1653240079c>:21: DeprecationWarning: The from_docplex method is deprecated as of version 0.2.0 and will be removed no sooner than 3 months after the release. Instead use the qiskit_optimization.translators.from_docplex_mp function.\n",
      "  qp.from_docplex(mdl)\n"
     ]
    }
   ],
   "source": [
    "# Construct model using docplex\n",
    "mdl = Model(\"BinPacking\")\n",
    "\n",
    "y = mdl.binary_var_list(num_bins, name=\"y\") # list of variables that represent the bins\n",
    "x =  mdl.binary_var_matrix(num_items, num_bins, \"x\") # variables that represent the items on the specific bin\n",
    "\n",
    "objective = mdl.sum(y)\n",
    "\n",
    "mdl.minimize(objective)\n",
    "\n",
    "for i in range(num_items):\n",
    "    # First set of constraints: the items must be in any bin\n",
    "    mdl.add_constraint(mdl.sum(x[i, j] for j in range(num_bins)) == 1)\n",
    "    \n",
    "for j in range(num_bins):\n",
    "    # Second set of constraints: weight constraints\n",
    "    mdl.add_constraint(mdl.sum(weights[i] * x[i, j] for i in range(num_items)) <= max_weight * y[j])\n",
    "\n",
    "# Load quadratic program from docplex model\n",
    "qp = QuadraticProgram()\n",
    "qp.from_docplex(mdl)\n",
    "qubo = QuadraticProgramToQubo().convert(qp)# Create a converter from quadratic program to qubo representation"
   ]
  },
  {
   "cell_type": "code",
   "execution_count": 4,
   "metadata": {},
   "outputs": [
    {
     "name": "stdout",
     "output_type": "stream",
     "text": [
      "The number of variables prior converting to QUBO is 12\n",
      "The number of variables after converting to QUBO is 24\n"
     ]
    },
    {
     "data": {
      "text/plain": [
       "Text(0.5, 1.0, 'Num. vars for 3 items')"
      ]
     },
     "execution_count": 4,
     "metadata": {},
     "output_type": "execute_result"
    },
    {
     "data": {
      "image/png": "[encoded data removed]",
      "text/plain": [
       "<Figure size 432x288 with 1 Axes>"
      ]
     },
     "metadata": {
      "needs_background": "light"
     },
     "output_type": "display_data"
    }
   ],
   "source": [
    "print(f\"The number of variables prior converting to QUBO is {qp.get_num_vars()}\")\n",
    "print(f\"The number of variables after converting to QUBO is {qubo.get_num_vars()}\")\n",
    "\n",
    "plt.figure()\n",
    "plt.bar(0, qp.get_num_vars(), label=\"Prior QUBO\")\n",
    "plt.bar(1, qubo.get_num_vars(), label=\"QUBO\")\n",
    "plt.xticks(range(2), 2 * [\"\"])\n",
    "plt.xlim((-1,2))\n",
    "plt.legend()\n",
    "plt.ylabel(\"Num. vars\")\n",
    "plt.title(f\"Num. vars for {num_items} items\")"
   ]
  },
  {
   "cell_type": "markdown",
   "metadata": {},
   "source": [
    "### Simplifications\n",
    "\n",
    "From this point and through the document, we make some simplifications for the problem being easy to solve, the problem variables can be reduced using the following simplifications:\n",
    "\n",
    "- Removing unnecesary decision variables, the minimum number of bins should be at least equal to the sum of the weights of the items. $l = \\mathrm{Int}\\left(\\frac{\\sum_i^n s(i)}{B}\\right)$\n",
    "\n",
    "- We assign the first item into the first bin., $x_{0,0} = 1$\n",
    "\n",
    "Therefore, the number of variables after the simplifications and assuming $m = n$: \n",
    "\n",
    "$$m(n - 1) + (m - l) = (n^2 - l)$$\n",
    "\n",
    "meanwhile for the original number of variables is:\n",
    "\n",
    "$$mn+m = n^2 + n$$\n",
    "\n",
    "a reduction of $(n + l)$ variables."
   ]
  },
  {
   "cell_type": "code",
   "execution_count": 5,
   "metadata": {},
   "outputs": [],
   "source": [
    "def BinPacking(num_items, num_bins, weights, max_weight, simplification=False):\n",
    "    # Construct model using docplex\n",
    "    mdl = Model(\"BinPacking\")\n",
    "\n",
    "    y = mdl.binary_var_list(num_bins, name=\"y\") # list of variables that represent the bins\n",
    "    x =  mdl.binary_var_matrix(num_items, num_bins, \"x\") # variables that represent the items on the specific bin\n",
    "\n",
    "    objective = mdl.sum(y)\n",
    "\n",
    "    mdl.minimize(objective)\n",
    "\n",
    "    for i in range(num_items):\n",
    "        # First set of constraints: the items must be in any bin\n",
    "        mdl.add_constraint(mdl.sum(x[i, j] for j in range(num_bins)) == 1)\n",
    "\n",
    "    for j in range(num_bins):\n",
    "        # Second set of constraints: weight constraints\n",
    "        mdl.add_constraint(mdl.sum(weights[i] * x[i, j] for i in range(num_items)) <= max_weight * y[j])\n",
    "\n",
    "    # Load quadratic program from docplex model\n",
    "    qp = QuadraticProgram()\n",
    "    qp.from_docplex(mdl)\n",
    "    if simplification:\n",
    "        l = int(np.ceil(np.sum(weights)/max_weight))\n",
    "        qp = qp.substitute_variables({f\"y_{_}\":1 for _ in range(l)}) # First simplification \n",
    "        qp = qp.substitute_variables({\"x_0_0\":1}) # Assign the first item into the first bin\n",
    "        qp = qp.substitute_variables({f\"x_0_{_}\":0 for _ in range(1, num_bins)}) # as the first item is in the first \n",
    "                                                                                #bin it couldn't be in the other bins\n",
    "    qubo = QuadraticProgramToQubo().convert(qp)# Create a converter from quadratic program to qubo representation\n",
    "    return qubo"
   ]
  },
  {
   "cell_type": "markdown",
   "metadata": {},
   "source": [
    "### Visualization of the number of variables"
   ]
  },
  {
   "cell_type": "code",
   "execution_count": 6,
   "metadata": {},
   "outputs": [
    {
     "name": "stdout",
     "output_type": "stream",
     "text": [
      "After the simplification, the number of variables is 18\n"
     ]
    },
    {
     "data": {
      "text/plain": [
       "Text(0.5, 1.0, 'Num. vars for 3 items')"
      ]
     },
     "execution_count": 6,
     "metadata": {},
     "output_type": "execute_result"
    },
    {
     "data": {
      "image/png": "[encoded data removed]",
      "text/plain": [
       "<Figure size 432x288 with 1 Axes>"
      ]
     },
     "metadata": {
      "needs_background": "light"
     },
     "output_type": "display_data"
    }
   ],
   "source": [
    "qubo_simp = BinPacking(num_items, num_bins, weights, max_weight, simplification=True)\n",
    "print(f\"After the simplification, the number of variables is {qubo_simp.get_num_vars()}\")\n",
    "plt.figure()\n",
    "plt.bar(0, qp.get_num_vars(), label=\"Prior QUBO\")\n",
    "plt.bar(1, qubo.get_num_vars(), label=\"QUBO\")\n",
    "plt.bar(2, qubo_simp.get_num_vars(), label=\"QUBO Simplifications\")\n",
    "plt.xticks(range(3), 3 * [\"\"])\n",
    "plt.xlim((-1,3))\n",
    "plt.legend()\n",
    "plt.ylabel(\"Num. vars\")\n",
    "plt.title(f\"Num. vars for {num_items} items\")"
   ]
  },
  {
   "cell_type": "markdown",
   "metadata": {},
   "source": [
    "## 2. The Classical approach: Solution with the QUBO simplication approach and QAOA\n",
    "\n",
    "Once we have the problem as a QUBO representation, we can solve it using QAOA. In this section, we show the results of the solution of the Bin Packing problem for three items and randomly selected weights."
   ]
  },
  {
   "cell_type": "code",
   "execution_count": 7,
   "metadata": {},
   "outputs": [],
   "source": [
    "from qiskit import Aer\n",
    "backend = Aer.get_backend(\"qasm_simulator\")"
   ]
  },
  {
   "cell_type": "markdown",
   "metadata": {},
   "source": [
    "### Useful functions\n",
    "These two functions allow the visualization of the bin packing problem solution"
   ]
  },
  {
   "cell_type": "code",
   "execution_count": 8,
   "metadata": {},
   "outputs": [],
   "source": [
    "def interpret(results, weights, num_items, num_bins, simplify=False):\n",
    "    \"\"\"\n",
    "    Save the results as a list of list where each sublist represent a bin\n",
    "    and the sublist elements represent the items weights\n",
    "    \n",
    "    Args:\n",
    "    results: results of the optimization\n",
    "    weights (list): weights of the items\n",
    "    num_items: (int) number of items\n",
    "    num_bins: (int) number of bins\n",
    "    \"\"\"\n",
    "    if simplify:\n",
    "        l = int(np.ceil(np.sum(weights)/max_weight))\n",
    "        bins = l * [1] + list(results[:num_bins - l])\n",
    "        items = results[num_bins - l: (num_bins - l) + num_bins * (num_items - 1)].reshape(num_items - 1, num_bins)\n",
    "        items_in_bins = [[i+1 for i in range(num_items-1) if bins[j] and items[i, j]] for j in range(num_bins)]\n",
    "        items_in_bins[0].append(0)\n",
    "    else:\n",
    "        bins = results[:num_bins]\n",
    "        items = results[num_bins:(num_bins + 1) * num_items].reshape((num_items, num_bins))\n",
    "        items_in_bins = [[i for i in range(num_items) if bins[j] and items[i, j]] for j in range(num_bins)]\n",
    "    return items_in_bins\n",
    "\n",
    "def get_figure(items_in_bins, weights, max_weight, title=None):\n",
    "    \"\"\"Get plot of the solution of the Bin Packing Problem.\n",
    "\n",
    "    Args:\n",
    "        result : The calculated result of the problem\n",
    "\n",
    "    Returns:\n",
    "        fig: A plot of the solution, where x and y represent the bins and\n",
    "        sum of the weights respectively.\n",
    "    \"\"\"\n",
    "    colors = plt.cm.get_cmap(\"jet\", len(weights))\n",
    "    num_bins = len(items_in_bins)\n",
    "    fig, axes = plt.subplots()\n",
    "    for _, bin_i in enumerate(items_in_bins):\n",
    "        sum_items = 0\n",
    "        for item in bin_i:\n",
    "            axes.bar(_, weights[item], bottom=sum_items, label=f\"Item {item}\", color=colors(item))\n",
    "            sum_items += weights[item]\n",
    "    axes.hlines(max_weight, -0.5, num_bins - 0.5, linestyle=\"--\", color=\"tab:red\", label=\"Max Weight\")\n",
    "    axes.set_xticks(np.arange(num_bins))\n",
    "    axes.set_xlabel(\"Bin\")\n",
    "    axes.set_ylabel(\"Weight\")\n",
    "    axes.legend()\n",
    "    if title:\n",
    "        axes.set_title(title)\n",
    "    return fig"
   ]
  },
  {
   "cell_type": "markdown",
   "metadata": {},
   "source": [
    "### Solution using QAOA\n",
    "\n",
    "Here, we test the QAOA solution of the QUBO problem and compare it with the CPLEX solution. For the solution, it sometimes converges and others it does not. Even so, the QAOA did not converge to the optimal point."
   ]
  },
  {
   "cell_type": "code",
   "execution_count": 9,
   "metadata": {},
   "outputs": [
    {
     "name": "stdout",
     "output_type": "stream",
     "text": [
      "Solving QUBO using QAOA\n",
      "optimal function value: 5.0\n",
      "optimal value: [0. 1. 1. 0. 0. 0. 1. 1. 1. 1. 1. 1. 0. 0. 1. 1. 0. 0.]\n",
      "status: SUCCESS\n",
      "Solving QUBO using CPLEX\n",
      "optimal function value: 3.0\n",
      "optimal value: [0. 1. 0. 0. 0. 1. 1. 1. 1. 1. 1. 1. 0. 0. 0. 1. 0. 0.]\n",
      "status: SUCCESS\n"
     ]
    }
   ],
   "source": [
    "qaoa = MinimumEigenOptimizer(QAOA(reps=3, quantum_instance=backend))\n",
    "result_qaoa = qaoa.solve(qubo_simp)\n",
    "print(\"Solving QUBO using QAOA\")\n",
    "print(result_qaoa)\n",
    "print(\"Solving QUBO using CPLEX\")\n",
    "result_ideal = CplexOptimizer().solve(qubo_simp)\n",
    "print(result_ideal)"
   ]
  },
  {
   "cell_type": "code",
   "execution_count": 10,
   "metadata": {},
   "outputs": [
    {
     "data": {
      "image/png": "[encoded data removed]",
      "text/plain": [
       "<Figure size 432x288 with 1 Axes>"
      ]
     },
     "metadata": {
      "needs_background": "light"
     },
     "output_type": "display_data"
    },
    {
     "data": {
      "image/png": "[encoded data removed]",
      "text/plain": [
       "<Figure size 432x288 with 1 Axes>"
      ]
     },
     "metadata": {
      "needs_background": "light"
     },
     "output_type": "display_data"
    }
   ],
   "source": [
    "fig = get_figure(interpret(result_ideal.x, weights, num_items, num_bins, simplify=True), weights, max_weight, title=\"CPLEX\")\n",
    "fig = get_figure(interpret(result_qaoa.x, weights, num_items, num_bins, simplify=True), weights, max_weight, title=\"QAOA\")"
   ]
  },
  {
   "cell_type": "markdown",
   "metadata": {},
   "source": [
    "### The increment of the number of qubits with the number of items\n",
    "\n",
    "As we can see, the usual approach couldn't be even solved if we use more than 5 items, this is because a simulation of the problem will be so expensive, and executing it on a real device is unfeasible because of the noise and the number of qubits in NISQ devices."
   ]
  },
  {
   "cell_type": "code",
   "execution_count": 11,
   "metadata": {},
   "outputs": [
    {
     "name": "stdout",
     "output_type": "stream",
     "text": [
      "The number of qubits is: {2: 9, 3: 17, 4: 30, 5: 38, 6: 57, 7: 71, 8: 90, 9: 111}\n"
     ]
    },
    {
     "data": {
      "image/png": "[encoded data removed]",
      "text/plain": [
       "<Figure size 432x288 with 1 Axes>"
      ]
     },
     "metadata": {
      "needs_background": "light"
     },
     "output_type": "display_data"
    }
   ],
   "source": [
    "max_weight = 15\n",
    "num_qubits = {}\n",
    "for i in range(2, 10):\n",
    "    num_items = i\n",
    "    num_bins = num_items\n",
    "    weights = [np.random.randint(1, max_weight) for _ in range(i)]\n",
    "    num_qubits[i] = BinPacking(num_items, num_bins, weights, max_weight, simplification=True).get_num_vars()\n",
    "\n",
    "plt.figure()\n",
    "plt.plot(num_qubits.keys(), num_qubits.values())\n",
    "plt.xlabel(\"num items\")\n",
    "plt.ylabel(\"num qubits\")\n",
    "plt.grid()\n",
    "print(f\"The number of qubits is: {num_qubits}\")"
   ]
  },
  {
   "cell_type": "markdown",
   "metadata": {},
   "source": [
    "## 3. Our New approach: A Heuristic method to solve inequality constrained optimization problems\n",
    "\n",
    "As we see above, translating the inequality constraints to equality constraints and binary representation has a large cost in terms of qubits. Therefore, we want to propose a new method that does not involve the use of more qubits than those needed to represent the bins and the items into the bins. Then, we need a penalization term that adds a large penality when the sum of weights of the items in a bin is greater than the maximum weight. We realize it with an exponential function of the form:\n",
    "\n",
    "$$f(x) = e^{-t}$$\n",
    "\n",
    "This equation has the property of been large for negative values, just what we want if the weights in the bins are greater than the maximum weight. However, we can not represent the exponential function using QUBOs. What we use is an approximation of the exponential to the second-order that is the maximum order for a QUBO: \n",
    "\n",
    "$$f(x) = e^{-t} \\approx 1 - t + t^2/2$$\n",
    "\n"
   ]
  },
  {
   "cell_type": "code",
   "execution_count": 12,
   "metadata": {},
   "outputs": [
    {
     "data": {
      "text/plain": [
       "<matplotlib.legend.Legend at 0x7fcb814c91c0>"
      ]
     },
     "execution_count": 12,
     "metadata": {},
     "output_type": "execute_result"
    },
    {
     "data": {
      "image/png": "[encoded data removed]",
      "text/plain": [
       "<Figure size 432x288 with 1 Axes>"
      ]
     },
     "metadata": {
      "needs_background": "light"
     },
     "output_type": "display_data"
    }
   ],
   "source": [
    "x = np.linspace(-2, 2, 100)\n",
    "plt.figure()\n",
    "plt.plot(x, np.exp(-x), label=\"Exponential\")\n",
    "plt.plot(x, 1 - (x) + (x) ** 2 / 2, label=\"Approximation\")\n",
    "plt.xlabel(r\"$t = B - \\sum_{i=1}^n s(i)*x_i$\", fontsize=14)\n",
    "plt.ylabel(\"penalization\", fontsize=14)\n",
    "plt.grid()\n",
    "plt.legend()"
   ]
  },
  {
   "cell_type": "markdown",
   "metadata": {},
   "source": [
    "### The new objective\n",
    "\n",
    "Now, we can represent the inequality constraint using the new approach mention above:\n",
    "\n",
    "$$\\underset{y_j}{minimize}\\sum_{j=1}^m y_j + \\alpha\\left[1 - t + t^2/2\\right]$$\n",
    "\n",
    "where $t = \\sum_{j=1}^{m}\\left(B y_j -\\sum_{i=1}^n s(i)x_{ij}\\right)$, we do not need the 1 in front of $t$ because is just a constant. Then, it reduce to:\n",
    "\n",
    "$$\\underset{y_j}{minimize}\\sum_{j=1}^m y_j + \\alpha\\left[-\\sum_{j=1}^{m}\\left(B y_j -\\sum_{i=1}^n s(i)x_{ij}\\right) + \\frac{\\left(\\sum_{j=1}^{m}\\left( B y_j -\\sum_{i=1}^n s(i) x_{ij}\\right)\\right)^2}{2}\\right]$$\n",
    "\n",
    "where $\\alpha$ is a Lagrange multiplier that adjust the penalization to be proportional to the objective function and we must set it. "
   ]
  },
  {
   "cell_type": "code",
   "execution_count": 13,
   "metadata": {},
   "outputs": [],
   "source": [
    "def BinPackingNewApproach(num_items, num_bins, weights, max_weight, alpha=0.01, simplification=False):\n",
    "    # Construct model using docplex\n",
    "    mdl = Model(\"BinPackingNewApproach\")\n",
    "\n",
    "    y = mdl.binary_var_list(num_bins, name=\"y\") # list of variables that represent the bins\n",
    "    x =  mdl.binary_var_matrix(num_items, num_bins, \"x\") # variables that represent the items on the specific bin\n",
    "\n",
    "    objective = mdl.sum(y)\n",
    "    \n",
    "    # PENALIZATION\n",
    "    penalization = 0\n",
    "    for j in range(num_bins):\n",
    "        t = max_weight * y[j] - mdl.sum(weights[i] * x[i, j] for i in range(num_items))\n",
    "        penalization += -t + t**2 / 2\n",
    "    mdl.minimize(objective + alpha * penalization)\n",
    "\n",
    "    for i in range(num_items):\n",
    "        # First set of constraints: the items must be in any bin\n",
    "        mdl.add_constraint(mdl.sum(x[i, j] for j in range(num_bins)) == 1)\n",
    "\n",
    "    # Load quadratic program from docplex model\n",
    "    qp = QuadraticProgram()\n",
    "    qp.from_docplex(mdl)\n",
    "    if simplification:\n",
    "        l = int(np.ceil(np.sum(weights)/max_weight))\n",
    "        qp = qp.substitute_variables({f\"y_{_}\":1 for _ in range(l)}) # First simplification \n",
    "        qp = qp.substitute_variables({\"x_0_0\":1}) # Assign the first item into the first bin\n",
    "        qp = qp.substitute_variables({f\"x_0_{_}\":0 for _ in range(1, num_bins)}) # as the first item is in the first \n",
    "                                                                                #bin it couldn't be in the other bins\n",
    "    qubo = QuadraticProgramToQubo().convert(qp)# Create a converter from quadratic program to qubo representation\n",
    "    return qubo"
   ]
  },
  {
   "cell_type": "markdown",
   "metadata": {},
   "source": [
    "### How behaves the classical approach to translate the problem in QUBO representation versus our new approach\n",
    "\n",
    "As we can see below, our approach has a considerable reduction in terms of qubits' number for the Bin Packing problem. We show results for a max_weight of 15 which involves an addition of 3 qubits for each inequality constraint. "
   ]
  },
  {
   "cell_type": "code",
   "execution_count": 14,
   "metadata": {},
   "outputs": [
    {
     "name": "stdout",
     "output_type": "stream",
     "text": [
      "The number of qubits for the Classical approach is: {2: 9, 3: 19, 4: 29, 5: 43, 6: 55, 7: 74, 8: 90, 9: 110}\n",
      "The number of qubits is for the new approach is: {2: 2, 3: 7, 4: 14, 5: 23, 6: 32, 7: 46, 8: 59, 9: 75}\n"
     ]
    },
    {
     "data": {
      "image/png": "[encoded data removed]",
      "text/plain": [
       "<Figure size 432x288 with 1 Axes>"
      ]
     },
     "metadata": {
      "needs_background": "light"
     },
     "output_type": "display_data"
    }
   ],
   "source": [
    "max_weight = 15\n",
    "num_qubits = {}\n",
    "num_qubits_new = {}\n",
    "for i in range(2, 10):\n",
    "    num_items = i\n",
    "    num_bins = num_items\n",
    "    weights = [np.random.randint(1, max_weight) for _ in range(i)]\n",
    "    num_qubits[i] = BinPacking(num_items, num_bins, weights, max_weight, simplification=True).get_num_vars()\n",
    "    num_qubits_new[i] = BinPackingNewApproach(num_items, num_bins, weights, max_weight, simplification=True).get_num_vars()\n",
    "    \n",
    "plt.figure()\n",
    "plt.plot(num_qubits.keys(), num_qubits.values(), label=\"Current Approach\")\n",
    "plt.plot(num_qubits_new.keys(), num_qubits_new.values(), label=\"New Approach\")\n",
    "plt.xlabel(\"num items\")\n",
    "plt.ylabel(\"num qubits\")\n",
    "plt.grid()\n",
    "plt.legend()\n",
    "print(f\"The number of qubits for the Classical approach is: {num_qubits}\")\n",
    "print(f\"The number of qubits is for the new approach is: {num_qubits_new}\")\n",
    "\n"
   ]
  },
  {
   "cell_type": "markdown",
   "metadata": {},
   "source": [
    "# 4. Comparison between both approaches: results for 3 items, 3 bins, and maximum weight 15.\n",
    "\n",
    "At this point, we want to compare the results of our new approach using QAOA, the classical approach using QAOA, and the cplex solution. We use a simple case with 3 items, 3 bins and a maximum weight of 15, we repeate this process 10 times, using 3 repetitions of QAOA."
   ]
  },
  {
   "cell_type": "code",
   "execution_count": 35,
   "metadata": {},
   "outputs": [],
   "source": [
    "np.random.seed(15)\n",
    "num_items = 3 # number of items\n",
    "num_bins = num_items # maximum number of bins\n",
    "max_weight = 15 # max weight of a bin\n",
    "weights = np.random.randint(1, max_weight, num_items) # Randomly picking the item weight\n",
    "\n",
    "qubo_classical = BinPacking(num_items, num_bins, weights, max_weight, simplification=True)\n",
    "qubo_new = BinPackingNewApproach(num_items, num_bins, weights, max_weight, alpha=0.05, simplification=True)\n",
    "qaoa = MinimumEigenOptimizer(QAOA(optimizer=COBYLA(maxiter=10), reps=3, quantum_instance=backend))\n",
    "result_qaoa_classical = qaoa.solve(qubo_classical)\n",
    "result_qaoa_new = qaoa.solve(qubo_new)\n",
    "result_cplex_classical = CplexOptimizer().solve(qubo_classical)"
   ]
  },
  {
   "cell_type": "code",
   "execution_count": 37,
   "metadata": {},
   "outputs": [
    {
     "name": "stdout",
     "output_type": "stream",
     "text": [
      "------------------------------------------\n",
      "Solving QUBO using QAOA Classical Approach\n",
      "optimal function value: 13.0\n",
      "optimal value: [1. 0. 1. 1. 0. 0. 0. 0. 1. 1. 0. 0. 0. 1. 0. 1. 0. 1.]\n",
      "status: SUCCESS\n",
      "------------------------------------------\n",
      "Solving QUBO using QAOA New Approach\n",
      "optimal function value: 2.0000000000000284\n",
      "optimal value: [0. 1. 0. 0. 0. 1. 0.]\n",
      "status: SUCCESS\n",
      "------------------------------------------\n",
      "Solving QUBO using CPLEX\n",
      "optimal function value: 2.0\n",
      "optimal value: [0. 1. 0. 0. 0. 1. 0. 0. 0. 0. 0. 1. 0. 0. 0. 0. 0. 0.]\n",
      "status: SUCCESS\n",
      "------------------------------------------\n"
     ]
    }
   ],
   "source": [
    "print(\"------------------------------------------\")\n",
    "print(\"Solving QUBO using QAOA Classical Approach\")\n",
    "print(result_qaoa_classical)\n",
    "print(\"------------------------------------------\")\n",
    "print(\"Solving QUBO using QAOA New Approach\")\n",
    "print(result_qaoa_new)\n",
    "print(\"------------------------------------------\")\n",
    "print(\"Solving QUBO using CPLEX\")\n",
    "print(result_cplex_classical)\n",
    "print(\"------------------------------------------\")\n"
   ]
  },
  {
   "cell_type": "code",
   "execution_count": 104,
   "metadata": {},
   "outputs": [
    {
     "data": {
      "image/png": "[encoded data removed]",
      "text/plain": [
       "<Figure size 432x288 with 1 Axes>"
      ]
     },
     "metadata": {
      "needs_background": "light"
     },
     "output_type": "display_data"
    },
    {
     "data": {
      "image/png": "[encoded data removed]",
      "text/plain": [
       "<Figure size 432x288 with 1 Axes>"
      ]
     },
     "metadata": {
      "needs_background": "light"
     },
     "output_type": "display_data"
    },
    {
     "data": {
      "image/png": "[encoded data removed]",
      "text/plain": [
       "<Figure size 432x288 with 1 Axes>"
      ]
     },
     "metadata": {
      "needs_background": "light"
     },
     "output_type": "display_data"
    }
   ],
   "source": [
    "fig = get_figure(interpret(result_ideal_old.x, weights, num_items, num_bins, simplify=True), weights, max_weight, title=\"CPLEX\")\n",
    "fig = get_figure(interpret(result_qaoa_old.x, weights, num_items, num_bins, simplify=True), weights, max_weight, title=\"QAOA classical approach\")\n",
    "fig = get_figure(interpret(result_qaoa_new.x, weights, num_items, num_bins, simplify=True), weights, max_weight, title=\"QAOA New Approach\")"
   ]
  },
  {
   "cell_type": "markdown",
   "metadata": {},
   "source": [
    "## Repeating the solution many times to see the ration of convergence\n",
    "\n",
    "We repeat the optimization process, because, QAOA has some ratio of convergence when solving a problem. Here, we use 10 times as the repetition of the problem and we compare against the cplex solution (considering it as the ideal) for both model."
   ]
  },
  {
   "cell_type": "code",
   "execution_count": 67,
   "metadata": {},
   "outputs": [],
   "source": [
    "solutions_new = []\n",
    "solutions_classical = []\n",
    "for _ in range(10):\n",
    "    result_qaoa_new = qaoa.solve(qubo_new)\n",
    "    result_qaoa_classical = qaoa.solve(qubo_classical)\n",
    "    solutions_new.append(result_qaoa_new.fval)\n",
    "    solutions_classical.append(result_qaoa_classical.fval)"
   ]
  },
  {
   "cell_type": "code",
   "execution_count": 84,
   "metadata": {},
   "outputs": [],
   "source": [
    "num_vars = qubo_new.get_num_vars()\n",
    "vars_new = qubo_new.variables\n",
    "result_cplex = CplexOptimizer().solve(qubo_classical)\n",
    "result_new_ideal = qubo_new.objective.evaluate(result_cplex.x[:num_vars])# Replacing the ideal solution into\n",
    "                                               #our new approach to see the optimal solution on the new objective\n",
    "                                               #function"
   ]
  },
  {
   "cell_type": "code",
   "execution_count": 120,
   "metadata": {},
   "outputs": [],
   "source": [
    "ratio_new = (np.abs(1 - np.array(solutions_new) / result_new_ideal) < 0.05).sum()\n",
    "ratio_classical = (np.abs(1 - np.array(solutions_classical) / result_cplex.fval) < 0.05).sum()"
   ]
  },
  {
   "cell_type": "code",
   "execution_count": 137,
   "metadata": {},
   "outputs": [
    {
     "data": {
      "text/plain": [
       "Text(0, 0.5, 'Ratio')"
      ]
     },
     "execution_count": 137,
     "metadata": {},
     "output_type": "execute_result"
    },
    {
     "data": {
      "image/png": "[encoded data removed]",
      "text/plain": [
       "<Figure size 1080x360 with 2 Axes>"
      ]
     },
     "metadata": {
      "needs_background": "light"
     },
     "output_type": "display_data"
    }
   ],
   "source": [
    "fig, ax = plt.subplots(1,2, figsize=(15,5))\n",
    "ax[0].plot(range(1,11), solutions_new, color=\"tab:green\",label=\"new QUBO QAOA\")\n",
    "ax[0].plot(range(1,11), solutions_classical, color=\"tab:red\",label=\"classical QUBO QAOA\")\n",
    "ax[0].plot([1, 10], 2*[result_new_ideal], \":\", color=\"tab:green\", label=\"new QUBO optimal\")\n",
    "ax[0].plot([1, 10], 2*[result_cplex.fval], \":\", color=\"tab:red\", label=\"classical QUBO optimal\")\n",
    "ax[0].set_xlabel(\"n\", fontsize=14)\n",
    "ax[0].set_ylabel(\"Cost Obj. function\", fontsize=14)\n",
    "ax[0].grid()\n",
    "ax[0].legend()\n",
    "\n",
    "ax[1].bar(0, 100 * ratio_new / 10, label=\"new\")\n",
    "ax[1].bar(1, 100 * ratio_classical/ 10 + 0.5, label=\"Classical\")\n",
    "ax[1].legend()\n",
    "ax[1].set_xticks([0,1])\n",
    "ax[1].set_xticklabels([\"\", \"\"])\n",
    "ax[1].set_ylabel(\"Ratio\", fontsize=14)"
   ]
  },
  {
   "cell_type": "markdown",
   "metadata": {},
   "source": [
    "At least for this problem, the classical QUBO, where we translate the inequality constraints into equality and add them as penalization terms, QAOA is not able to find the optimal solution. However, for our approach it converge 100\\% of the cases."
   ]
  },
  {
   "cell_type": "markdown",
   "metadata": {},
   "source": [
    "## Ratio of convergence 3, 4, and 5 items with our new method\n",
    "\n",
    "Testing the ratio of convergence for the classical solution of the QUBO is not possible, because, the number of qubits grows to limits where the simulation is not possible. Here, we test the convergence only on our new approach using 3, 4, and 5 items, 10 repetitions and 5 different problems selected randomly. The criteria of convergence we select 5% from the optimal solution. Therefore,\n",
    "\n",
    "$$abs\\left(1 - \\frac{new_{solution}}{optimal_{solution}}\\right) < 0.05$$\n",
    "\n",
    "where $new_{solution}$ is the solution of our approach using QAOA and $optimal_{solution}$ is the solution using the classical approach for the QUBO and CPLEX."
   ]
  },
  {
   "cell_type": "code",
   "execution_count": 153,
   "metadata": {},
   "outputs": [],
   "source": [
    "def new_eq_optimal(qubo_new, qubo_classical):\n",
    "    \"\"\"\n",
    "    From the classical solution and considering that cplex solution is the optimal, we can traslate the optimal\n",
    "    solution to the QUBO representation based on our approach.\n",
    "    \n",
    "    \n",
    "    \"\"\"\n",
    "    num_vars = qubo_new.get_num_vars()\n",
    "    vars_new = qubo_new.variables\n",
    "    result_cplex = CplexOptimizer().solve(qubo_classical)\n",
    "    result_new_ideal = qubo_new.objective.evaluate(result_cplex.x[:num_vars])# Replacing the ideal solution into\n",
    "                                               #our new approach to see the optimal solution on the new objective\n",
    "                                               #function\n",
    "    return result_new_ideal"
   ]
  },
  {
   "cell_type": "markdown",
   "metadata": {},
   "source": [
    "### 3 items"
   ]
  },
  {
   "cell_type": "code",
   "execution_count": 156,
   "metadata": {},
   "outputs": [
    {
     "name": "stdout",
     "output_type": "stream",
     "text": [
      "----------- Case 1 -------------\n",
      "----------- Case 2 -------------\n",
      "----------- Case 3 -------------\n",
      "----------- Case 4 -------------\n",
      "----------- Case 5 -------------\n"
     ]
    }
   ],
   "source": [
    "np.random.seed(1)\n",
    "num_items = 3 # number of items\n",
    "num_bins = num_items # maximum number of bins\n",
    "max_weight = 15 # max weight of a bin\n",
    "repetitions = 10\n",
    "cases = 5\n",
    "solutions_new = {}\n",
    "optimal_new = []\n",
    "ratio_new = []\n",
    "for i in range(cases): # Testing 5 different randomly selected configurations of the problem\n",
    "    print(f\"----------- Case {i+1} -------------\")\n",
    "    weights = np.random.randint(1, max_weight, num_items) # Randomly picking the item weight\n",
    "    qubo_new = BinPackingNewApproach(num_items, num_bins, weights, max_weight, alpha=0.05, simplification=True)\n",
    "    qubo_classical = BinPacking(num_items, num_bins, weights, max_weight, simplification=True)\n",
    "    optimal_new.append(new_eq_optimal(qubo_new, qubo_classical))\n",
    "    solutions_new[i] = []\n",
    "    for _ in range(repetitions): #Testing the ratio\n",
    "        result_qaoa_new = qaoa.solve(qubo_new)\n",
    "        solutions_new[i].append(result_qaoa_new.fval)\n",
    "    ratio_new.append(100 * ((np.array(solutions_new[i]) / optimal_new[-1] - 1) < 5e-2).sum() / repetitions)"
   ]
  },
  {
   "cell_type": "code",
   "execution_count": 157,
   "metadata": {},
   "outputs": [
    {
     "data": {
      "text/plain": [
       "Text(0, 0.5, 'Ratio')"
      ]
     },
     "execution_count": 157,
     "metadata": {},
     "output_type": "execute_result"
    },
    {
     "data": {
      "image/png": "[encoded data removed]",
      "text/plain": [
       "<Figure size 432x288 with 1 Axes>"
      ]
     },
     "metadata": {
      "needs_background": "light"
     },
     "output_type": "display_data"
    }
   ],
   "source": [
    "plt.figure()\n",
    "plt.bar([i for i in range(1, cases + 1)], ratio_new)\n",
    "plt.xlabel(\"Case\")\n",
    "plt.ylabel(\"Ratio\")"
   ]
  },
  {
   "cell_type": "markdown",
   "metadata": {},
   "source": [
    "### 4 items"
   ]
  },
  {
   "cell_type": "code",
   "execution_count": 158,
   "metadata": {},
   "outputs": [
    {
     "name": "stdout",
     "output_type": "stream",
     "text": [
      "----------- Case 1 -------------\n",
      "----------- Case 2 -------------\n",
      "----------- Case 3 -------------\n",
      "----------- Case 4 -------------\n",
      "----------- Case 5 -------------\n"
     ]
    }
   ],
   "source": [
    "np.random.seed(1)\n",
    "num_items = 4 # number of items\n",
    "num_bins = num_items # maximum number of bins\n",
    "max_weight = 15 # max weight of a bin\n",
    "repetitions = 10\n",
    "cases = 5\n",
    "solutions_new = {}\n",
    "optimal_new = []\n",
    "ratio_new = []\n",
    "for i in range(cases): # Testing 5 different randomly selected configurations of the problem\n",
    "    print(f\"----------- Case {i+1} -------------\")\n",
    "    weights = np.random.randint(1, max_weight, num_items) # Randomly picking the item weight\n",
    "    qubo_new = BinPackingNewApproach(num_items, num_bins, weights, max_weight, alpha=0.05, simplification=True)\n",
    "    qubo_classical = BinPacking(num_items, num_bins, weights, max_weight, simplification=True)\n",
    "    optimal_new.append(new_eq_optimal(qubo_new, qubo_classical))\n",
    "    solutions_new[i] = []\n",
    "    for _ in range(repetitions): #Testing the ratio\n",
    "        result_qaoa_new = qaoa.solve(qubo_new)\n",
    "        solutions_new[i].append(result_qaoa_new.fval)\n",
    "    ratio_new.append(100 * ((np.array(solutions_new[i]) / optimal_new[-1] - 1) < 5e-2).sum() / repetitions)"
   ]
  },
  {
   "cell_type": "code",
   "execution_count": 159,
   "metadata": {},
   "outputs": [
    {
     "data": {
      "text/plain": [
       "Text(0, 0.5, 'Ratio')"
      ]
     },
     "execution_count": 159,
     "metadata": {},
     "output_type": "execute_result"
    },
    {
     "data": {
      "image/png": "[encoded data removed]",
      "text/plain": [
       "<Figure size 432x288 with 1 Axes>"
      ]
     },
     "metadata": {
      "needs_background": "light"
     },
     "output_type": "display_data"
    }
   ],
   "source": [
    "plt.figure()\n",
    "plt.bar([i for i in range(1, cases + 1)], ratio_new)\n",
    "plt.xlabel(\"Case\")\n",
    "plt.ylabel(\"Ratio\")"
   ]
  },
  {
   "cell_type": "markdown",
   "metadata": {},
   "source": [
    "### 5 items\n",
    "\n",
    "For 5 items, using the current approach of max iteration of 10 and 3 repetitions, the model does not converge. Therefore, we increasethe max iteration number to 100 and 4 repetitions. For the different cases, there are two of them that converge and other get closed to the optimal solution. Further selection of hyperparameters should made to see even at this point we can find optimal solutions."
   ]
  },
  {
   "cell_type": "code",
   "execution_count": 179,
   "metadata": {},
   "outputs": [
    {
     "name": "stdout",
     "output_type": "stream",
     "text": [
      "----------- Case 1 -------------\n",
      "----------- Case 2 -------------\n",
      "----------- Case 3 -------------\n",
      "----------- Case 4 -------------\n",
      "----------- Case 5 -------------\n"
     ]
    }
   ],
   "source": [
    "np.random.seed(1)\n",
    "num_items = 5 # number of items\n",
    "num_bins = num_items # maximum number of bins\n",
    "max_weight = 15 # max weight of a bin\n",
    "repetitions = 10\n",
    "cases = 5\n",
    "solutions_new = {}\n",
    "optimal_new = []\n",
    "ratio_new = []\n",
    "qaoa = MinimumEigenOptimizer(QAOA(optimizer=COBYLA(maxiter=100), reps=4, quantum_instance=backend))\n",
    "for i in range(cases): # Testing 5 different randomly selected configurations of the problem\n",
    "    print(f\"----------- Case {i+1} -------------\")\n",
    "    weights = np.random.randint(1, max_weight, num_items) # Randomly picking the item weight\n",
    "    qubo_new = BinPackingNewApproach(num_items, num_bins, weights, max_weight, alpha=0.05, simplification=True)\n",
    "    qubo_classical = BinPacking(num_items, num_bins, weights, max_weight, simplification=True)\n",
    "    optimal_new.append(new_eq_optimal(qubo_new, qubo_classical))\n",
    "    solutions_new[i] = []\n",
    "    for _ in range(repetitions): #Testing the ratio\n",
    "        result_qaoa_new = qaoa.solve(qubo_new)\n",
    "        solutions_new[i].append(result_qaoa_new.fval)\n",
    "    ratio_new.append(100 * ((np.array(solutions_new[i]) / optimal_new[-1] - 1) < 5e-2).sum() / repetitions)"
   ]
  },
  {
   "cell_type": "code",
   "execution_count": 182,
   "metadata": {},
   "outputs": [
    {
     "data": {
      "text/plain": [
       "Text(0, 0.5, 'Ratio')"
      ]
     },
     "execution_count": 182,
     "metadata": {},
     "output_type": "execute_result"
    },
    {
     "data": {
      "image/png": "[encoded data removed]",
      "text/plain": [
       "<Figure size 432x288 with 1 Axes>"
      ]
     },
     "metadata": {
      "needs_background": "light"
     },
     "output_type": "display_data"
    }
   ],
   "source": [
    "plt.figure()\n",
    "plt.bar([i for i in range(1, cases + 1)], ratio_new)\n",
    "plt.xlabel(\"Case\")\n",
    "plt.ylabel(\"Ratio\")"
   ]
  },
  {
   "cell_type": "markdown",
   "metadata": {},
   "source": [
    "# 5. Conclusions\n",
    "\n",
    "We have proposed a method that replaces the actual qiskit QUBO converter for the Bin Packing problem. Our approach exploits the concept of an approximation of an exponential function to represent the inequality constraint directly as a penalty in the objective function. We test our method against the qiskit QUBO converter, with 10 iterations, COBYLA classical optimizer, and QAOA. Our method is able to reduce significantly the number of qubits and converge for 100\\% of cases if we only use 3 items against 0\\% for the classical QUBO converter. We were even able to test our method for 4 and 5 items, something that is not possible with the classical converter and in both cases we found convergence.   "
   ]
  },
  {
   "cell_type": "code",
   "execution_count": null,
   "metadata": {},
   "outputs": [],
   "source": []
  }
 ],
 "metadata": {
  "kernelspec": {
   "display_name": "Python 3",
   "language": "python",
   "name": "python3"
  },
  "language_info": {
   "codemirror_mode": {
    "name": "ipython",
    "version": 3
   },
   "file_extension": ".py",
   "mimetype": "text/x-python",
   "name": "python",
   "nbconvert_exporter": "python",
   "pygments_lexer": "ipython3",
   "version": "3.8.3"
  }
 },
 "nbformat": 4,
 "nbformat_minor": 4
}
